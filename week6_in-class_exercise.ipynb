{
 "cells": [
  {
   "cell_type": "markdown",
   "id": "dd6130c2-3a8c-4401-ae9b-c8cc743a074b",
   "metadata": {},
   "source": [
    "# Week 4 Exercise (group): Exploratory Data Analysis on Social Media Data\n",
    "\n",
    "- kristina dyrvik \n",
    "- ..."
   ]
  },
  {
   "cell_type": "markdown",
   "id": "603a40a3-9ea2-4d3f-a8c5-2d98336ec4bc",
   "metadata": {},
   "source": [
    "## 1. Import necessary packages"
   ]
  },
  {
   "cell_type": "code",
   "execution_count": 23,
   "id": "8308e587-737b-44aa-b3ee-de8542e973f4",
   "metadata": {
    "tags": []
   },
   "outputs": [
    {
     "name": "stdout",
     "output_type": "stream",
     "text": [
      "Requirement already satisfied: nltk in /opt/conda/lib/python3.10/site-packages (3.8.1)\n",
      "Requirement already satisfied: click in /opt/conda/lib/python3.10/site-packages (from nltk) (8.1.3)\n",
      "Requirement already satisfied: joblib in /opt/conda/lib/python3.10/site-packages (from nltk) (1.2.0)\n",
      "Requirement already satisfied: regex>=2021.8.3 in /opt/conda/lib/python3.10/site-packages (from nltk) (2023.5.5)\n",
      "Requirement already satisfied: tqdm in /opt/conda/lib/python3.10/site-packages (from nltk) (4.65.0)\n",
      "Requirement already satisfied: emoji in /opt/conda/lib/python3.10/site-packages (2.2.0)\n"
     ]
    }
   ],
   "source": [
    "!pip install nltk\n",
    "import nltk\n",
    "from nltk import ngrams\n",
    "import pandas as pd\n",
    "!pip install emoji\n",
    "import emoji\n",
    "import re\n",
    "import seaborn as sns\n",
    "import matplotlib.pyplot as plt"
   ]
  },
  {
   "cell_type": "code",
   "execution_count": 24,
   "id": "f7c44f9c-92b4-4b33-8b5e-10471a7e90ac",
   "metadata": {
    "tags": []
   },
   "outputs": [
    {
     "name": "stdout",
     "output_type": "stream",
     "text": [
      "Requirement already satisfied: openpyxl in /opt/conda/lib/python3.10/site-packages (3.1.2)\n",
      "Requirement already satisfied: et-xmlfile in /opt/conda/lib/python3.10/site-packages (from openpyxl) (1.1.0)\n"
     ]
    }
   ],
   "source": [
    "!pip install openpyxl"
   ]
  },
  {
   "cell_type": "markdown",
   "id": "03d4a085-74e8-4093-85e4-9a2f8008bf04",
   "metadata": {},
   "source": [
    "## 2. Read the data\n",
    "\n",
    "The data is called `tweets.csv` in the same folder. More information about the data see [here](https://www.kaggle.com/datasets/infamouscoder/mental-health-social-media)\n",
    "\n",
    "The main column you will be working with is `post_text`"
   ]
  },
  {
   "cell_type": "code",
   "execution_count": 30,
   "id": "c10a6b2a-52c4-4409-ba19-f199bff034b6",
   "metadata": {
    "tags": []
   },
   "outputs": [
    {
     "data": {
      "text/html": [
       "<div>\n",
       "<style scoped>\n",
       "    .dataframe tbody tr th:only-of-type {\n",
       "        vertical-align: middle;\n",
       "    }\n",
       "\n",
       "    .dataframe tbody tr th {\n",
       "        vertical-align: top;\n",
       "    }\n",
       "\n",
       "    .dataframe thead th {\n",
       "        text-align: right;\n",
       "    }\n",
       "</style>\n",
       "<table border=\"1\" class=\"dataframe\">\n",
       "  <thead>\n",
       "    <tr style=\"text-align: right;\">\n",
       "      <th></th>\n",
       "      <th>Unnamed: 0</th>\n",
       "      <th>post_id</th>\n",
       "      <th>user_id</th>\n",
       "      <th>followers</th>\n",
       "      <th>friends</th>\n",
       "      <th>favourites</th>\n",
       "      <th>statuses</th>\n",
       "      <th>retweets</th>\n",
       "      <th>label</th>\n",
       "    </tr>\n",
       "  </thead>\n",
       "  <tbody>\n",
       "    <tr>\n",
       "      <th>count</th>\n",
       "      <td>20000.000000</td>\n",
       "      <td>2.000000e+04</td>\n",
       "      <td>2.000000e+04</td>\n",
       "      <td>20000.000000</td>\n",
       "      <td>20000.000000</td>\n",
       "      <td>20000.000000</td>\n",
       "      <td>2.000000e+04</td>\n",
       "      <td>20000.000000</td>\n",
       "      <td>20000.000000</td>\n",
       "    </tr>\n",
       "    <tr>\n",
       "      <th>mean</th>\n",
       "      <td>9999.500000</td>\n",
       "      <td>6.874728e+17</td>\n",
       "      <td>3.548623e+16</td>\n",
       "      <td>900.483950</td>\n",
       "      <td>782.428750</td>\n",
       "      <td>6398.235550</td>\n",
       "      <td>4.439442e+04</td>\n",
       "      <td>1437.927300</td>\n",
       "      <td>0.500000</td>\n",
       "    </tr>\n",
       "    <tr>\n",
       "      <th>std</th>\n",
       "      <td>5773.647028</td>\n",
       "      <td>1.708396e+17</td>\n",
       "      <td>1.606083e+17</td>\n",
       "      <td>1899.913961</td>\n",
       "      <td>1834.817945</td>\n",
       "      <td>8393.072914</td>\n",
       "      <td>1.407785e+05</td>\n",
       "      <td>15119.665118</td>\n",
       "      <td>0.500013</td>\n",
       "    </tr>\n",
       "    <tr>\n",
       "      <th>min</th>\n",
       "      <td>0.000000</td>\n",
       "      <td>3.555966e+09</td>\n",
       "      <td>1.472438e+07</td>\n",
       "      <td>0.000000</td>\n",
       "      <td>0.000000</td>\n",
       "      <td>0.000000</td>\n",
       "      <td>3.000000e+00</td>\n",
       "      <td>0.000000</td>\n",
       "      <td>0.000000</td>\n",
       "    </tr>\n",
       "    <tr>\n",
       "      <th>25%</th>\n",
       "      <td>4999.750000</td>\n",
       "      <td>5.931686e+17</td>\n",
       "      <td>3.242944e+08</td>\n",
       "      <td>177.000000</td>\n",
       "      <td>211.000000</td>\n",
       "      <td>243.000000</td>\n",
       "      <td>5.129000e+03</td>\n",
       "      <td>0.000000</td>\n",
       "      <td>0.000000</td>\n",
       "    </tr>\n",
       "    <tr>\n",
       "      <th>50%</th>\n",
       "      <td>9999.500000</td>\n",
       "      <td>7.637400e+17</td>\n",
       "      <td>1.052122e+09</td>\n",
       "      <td>476.000000</td>\n",
       "      <td>561.000000</td>\n",
       "      <td>2752.000000</td>\n",
       "      <td>1.325100e+04</td>\n",
       "      <td>0.000000</td>\n",
       "      <td>0.500000</td>\n",
       "    </tr>\n",
       "    <tr>\n",
       "      <th>75%</th>\n",
       "      <td>14999.250000</td>\n",
       "      <td>8.153124e+17</td>\n",
       "      <td>2.285923e+09</td>\n",
       "      <td>1197.000000</td>\n",
       "      <td>701.000000</td>\n",
       "      <td>8229.000000</td>\n",
       "      <td>5.289200e+04</td>\n",
       "      <td>1.000000</td>\n",
       "      <td>1.000000</td>\n",
       "    </tr>\n",
       "    <tr>\n",
       "      <th>max</th>\n",
       "      <td>19999.000000</td>\n",
       "      <td>8.194574e+17</td>\n",
       "      <td>7.631825e+17</td>\n",
       "      <td>28614.000000</td>\n",
       "      <td>28514.000000</td>\n",
       "      <td>39008.000000</td>\n",
       "      <td>1.063601e+06</td>\n",
       "      <td>839540.000000</td>\n",
       "      <td>1.000000</td>\n",
       "    </tr>\n",
       "  </tbody>\n",
       "</table>\n",
       "</div>"
      ],
      "text/plain": [
       "         Unnamed: 0       post_id       user_id     followers       friends  \\\n",
       "count  20000.000000  2.000000e+04  2.000000e+04  20000.000000  20000.000000   \n",
       "mean    9999.500000  6.874728e+17  3.548623e+16    900.483950    782.428750   \n",
       "std     5773.647028  1.708396e+17  1.606083e+17   1899.913961   1834.817945   \n",
       "min        0.000000  3.555966e+09  1.472438e+07      0.000000      0.000000   \n",
       "25%     4999.750000  5.931686e+17  3.242944e+08    177.000000    211.000000   \n",
       "50%     9999.500000  7.637400e+17  1.052122e+09    476.000000    561.000000   \n",
       "75%    14999.250000  8.153124e+17  2.285923e+09   1197.000000    701.000000   \n",
       "max    19999.000000  8.194574e+17  7.631825e+17  28614.000000  28514.000000   \n",
       "\n",
       "         favourites      statuses       retweets         label  \n",
       "count  20000.000000  2.000000e+04   20000.000000  20000.000000  \n",
       "mean    6398.235550  4.439442e+04    1437.927300      0.500000  \n",
       "std     8393.072914  1.407785e+05   15119.665118      0.500013  \n",
       "min        0.000000  3.000000e+00       0.000000      0.000000  \n",
       "25%      243.000000  5.129000e+03       0.000000      0.000000  \n",
       "50%     2752.000000  1.325100e+04       0.000000      0.500000  \n",
       "75%     8229.000000  5.289200e+04       1.000000      1.000000  \n",
       "max    39008.000000  1.063601e+06  839540.000000      1.000000  "
      ]
     },
     "execution_count": 30,
     "metadata": {},
     "output_type": "execute_result"
    }
   ],
   "source": [
    "df = pd.read_csv(\"tweets.csv\")\n",
    "df.describe()"
   ]
  },
  {
   "cell_type": "code",
   "execution_count": 31,
   "id": "239844ba-5530-4ccc-ae70-6e0748248e3f",
   "metadata": {
    "collapsed": true,
    "jupyter": {
     "outputs_hidden": true
    },
    "tags": []
   },
   "outputs": [
    {
     "name": "stdout",
     "output_type": "stream",
     "text": [
      "<class 'pandas.core.frame.DataFrame'>\n",
      "RangeIndex: 20000 entries, 0 to 19999\n",
      "Data columns (total 11 columns):\n",
      " #   Column        Non-Null Count  Dtype \n",
      "---  ------        --------------  ----- \n",
      " 0   Unnamed: 0    20000 non-null  int64 \n",
      " 1   post_id       20000 non-null  int64 \n",
      " 2   post_created  20000 non-null  object\n",
      " 3   post_text     20000 non-null  object\n",
      " 4   user_id       20000 non-null  int64 \n",
      " 5   followers     20000 non-null  int64 \n",
      " 6   friends       20000 non-null  int64 \n",
      " 7   favourites    20000 non-null  int64 \n",
      " 8   statuses      20000 non-null  int64 \n",
      " 9   retweets      20000 non-null  int64 \n",
      " 10  label         20000 non-null  int64 \n",
      "dtypes: int64(9), object(2)\n",
      "memory usage: 1.7+ MB\n"
     ]
    }
   ],
   "source": [
    "df.info([\"post_text\"])"
   ]
  },
  {
   "cell_type": "markdown",
   "id": "13566cfc-ca98-4a22-89a0-c0774944d289",
   "metadata": {},
   "source": [
    "## 3. Extract emojis\n",
    "\n",
    "Use `emoji` package to extract emojis and put them into a new column called `emojis`"
   ]
  },
  {
   "cell_type": "code",
   "execution_count": 52,
   "id": "cbd5d2b9-73c4-45ca-a02d-a359a418c796",
   "metadata": {
    "tags": []
   },
   "outputs": [],
   "source": [
    "def extract_emojis(text):\n",
    "    emoji_pattern = re.compile(\"[\"\n",
    "                               u\"\\U0001F600-\\U0001F64F\"  # emoticons\n",
    "                               u\"\\U0001F300-\\U0001F5FF\"  # symbols & pictographs\n",
    "                               u\"\\U0001F680-\\U0001F6FF\"  # transport & map symbols\n",
    "                               u\"\\U0001F1E0-\\U0001F1FF\"  # flags (iOS)\n",
    "                               \"]+\", flags=re.UNICODE)\n",
    "    return emoji_pattern.findall(text)"
   ]
  },
  {
   "cell_type": "code",
   "execution_count": 54,
   "id": "3c1b3769-0a8b-4248-aba9-64afaadee384",
   "metadata": {
    "tags": []
   },
   "outputs": [
    {
     "data": {
      "text/plain": [
       "0    []\n",
       "1    []\n",
       "2    []\n",
       "3    []\n",
       "4    []\n",
       "Name: post_text, dtype: object"
      ]
     },
     "execution_count": 54,
     "metadata": {},
     "output_type": "execute_result"
    }
   ],
   "source": [
    "emojis_tweets = df['post_text'].apply(extract_emojis)\n",
    "emojis_tweets.head()"
   ]
  },
  {
   "cell_type": "markdown",
   "id": "41d961f7-b745-4f4d-b516-68d9ef48dce2",
   "metadata": {},
   "source": [
    "## 4. Text Cleaning using Regular Expressions \n",
    "\n",
    "1. Remove URLs\n",
    "2. Remove mentions\n",
    "3. Remove hashtags\n",
    "4. Remove special characters\n",
    "5. Remove extra space\n",
    "\n",
    "Code can be found in [week 6 lecture 1](https://github.com/yibeichan/COMM160DS/blob/main/week_6/lecture_part1.ipynb) section `4.4 All-in-One`\n",
    "\n",
    "Perform the analysis and save the results into a new column."
   ]
  },
  {
   "cell_type": "code",
   "execution_count": 57,
   "id": "ec34e8bc-47ab-4bc9-a623-9436ecf6014b",
   "metadata": {},
   "outputs": [],
   "source": [
    "# define the function\n",
    "def clean_tweets(text):\n",
    "    text = re.sub(r'https?://\\S+|www.\\S+', '', text, flags=re.MULTILINE) # removed URLs\n",
    "    text = re.sub(r'#\\w+', '', text) # removed hashtags\n",
    "    text = re.sub(r'@\\w+', '', text)  # remove mentions\n",
    "    text = re.sub(r'\\W', ' ', text)  # remove special characters\n",
    "    text = re.sub(r'\\s+', ' ', text)  # remove extra spaces\n",
    "    return text.strip()\n",
    "\n",
    "# apply the function to your dataframe\n",
    "df['cleaned_tweets'] = df['post_text'].apply(clean_tweets)"
   ]
  },
  {
   "cell_type": "code",
   "execution_count": 61,
   "id": "84ca6adb-beb6-4df5-bcd7-716484ae0db4",
   "metadata": {
    "tags": []
   },
   "outputs": [
    {
     "data": {
      "text/plain": [
       "0    It s just over 2 years since I was diagnosed w...\n",
       "1    It s Sunday I need a break so I m planning to ...\n",
       "2    Awake but tired I need to sleep but my brain h...\n",
       "3    RT bears make perfect gifts and are great for ...\n",
       "4    It s hard to say whether packing lists are mak...\n",
       "Name: cleaned_tweets, dtype: object"
      ]
     },
     "execution_count": 61,
     "metadata": {},
     "output_type": "execute_result"
    }
   ],
   "source": [
    "df['cleaned_tweets'].head()"
   ]
  },
  {
   "cell_type": "markdown",
   "id": "ec44d9f5-2311-4379-ba10-bd9a4ba87c8e",
   "metadata": {},
   "source": [
    "## 5. Part-of-Speech Tagging\n",
    "\n",
    "Choose one analysis from (1)Sentiment Analysis, (2)N-grams and Phrase Analysis, (3)Collocation Analysis, (4)Part-of-Speech Tagging, (5)Named Entity Recognition, and (6)Dependency Parsing.\n",
    "\n",
    "Perform the analysis and save the results into a new column."
   ]
  },
  {
   "cell_type": "code",
   "execution_count": null,
   "id": "c4d11119-e37c-4a17-ad3d-5dbb8ff6f202",
   "metadata": {
    "tags": []
   },
   "outputs": [],
   "source": [
    "nltk.download('averaged_perceptron_tagger')"
   ]
  },
  {
   "cell_type": "code",
   "execution_count": null,
   "id": "3bb995d2-845a-429e-ad81-b49911914de2",
   "metadata": {},
   "outputs": [],
   "source": [
    "def pos_tagging_tweets(text):\n",
    "    tokens = nltk.word_tokenize(text)\n",
    "    tagged_tokens = nltk.pos_tag(tokens)\n",
    "    return tagged_tokens\n",
    "\n",
    "df['tagged pos tweets'] = df['post_text'].apply(pos_tagging_tweets)\n",
    "df['tagged pos tweets'].head()"
   ]
  },
  {
   "cell_type": "markdown",
   "id": "0ff6ee3d-825a-4ef0-9193-8d69e95b29ad",
   "metadata": {},
   "source": [
    "## 6. N-grams and Phrase Analysis\n",
    "\n",
    "Choose another analysis from (1)Sentiment Analysis, (2)N-grams and Phrase Analysis, (3)Collocation Analysis, (4)Part-of-Speech Tagging, (5)Named Entity Recognition, and (6)Dependency Parsing.\n",
    "\n",
    "Perform the analysis and save the results into a new column."
   ]
  },
  {
   "cell_type": "code",
   "execution_count": 64,
   "id": "f15c89b2-634b-4526-a67f-26806ca3aeba",
   "metadata": {},
   "outputs": [
    {
     "data": {
      "text/plain": [
       "0    [(It's, just), (just, over), (over, 2), (2, ye...\n",
       "1    [(It's, Sunday,), (Sunday,, I), (I, need), (ne...\n",
       "2    [(Awake, but), (but, tired.), (tired., I), (I,...\n",
       "3    [(RT, @SewHQ:), (@SewHQ:, #Retro), (#Retro, be...\n",
       "4    [(It’s, hard), (hard, to), (to, say), (say, wh...\n",
       "Name: n_grams, dtype: object"
      ]
     },
     "execution_count": 64,
     "metadata": {},
     "output_type": "execute_result"
    }
   ],
   "source": [
    "from nltk import ngrams\n",
    "\n",
    "def generate_ngrams(text, n):\n",
    "    tokens = text.split()\n",
    "    return list(ngrams(tokens, n))\n",
    "\n",
    "df['n_grams'] = df['post_text'].apply(lambda x: generate_ngrams(x, n=2))\n",
    "df['n_grams'].head()"
   ]
  },
  {
   "cell_type": "code",
   "execution_count": 67,
   "id": "38f90d42-4313-46da-a386-f61a30e7341d",
   "metadata": {
    "tags": []
   },
   "outputs": [
    {
     "data": {
      "text/plain": [
       "0    {('It's', 'just'): 1, ('just', 'over'): 1, ('o...\n",
       "1    {('It's', 'Sunday,'): 1, ('Sunday,', 'I'): 1, ...\n",
       "2    {('Awake', 'but'): 1, ('but', 'tired.'): 1, ('...\n",
       "3    {('RT', '@SewHQ:'): 1, ('@SewHQ:', '#Retro'): ...\n",
       "4    {('It’s', 'hard'): 1, ('hard', 'to'): 1, ('to'...\n",
       "Name: n_gram_counts, dtype: object"
      ]
     },
     "execution_count": 67,
     "metadata": {},
     "output_type": "execute_result"
    }
   ],
   "source": [
    "from collections import Counter\n",
    "\n",
    "df['n_gram_counts'] = df['n_grams'].apply(Counter)\n",
    "df['n_gram_counts'].head()"
   ]
  },
  {
   "cell_type": "markdown",
   "id": "4f2adeba-0c61-4216-9042-e79337da575c",
   "metadata": {},
   "source": [
    "## 7. Push Your Results to GitHub\n",
    "\n",
    "As you did in previous weeks:\n",
    "1. `git status`\n",
    "2. `git add`\n",
    "3. `git commit -m \"type your message here\"`\n",
    "4. `git push`\n",
    "\n",
    "If you can't push it to GitHub, it's okay to manually uploaded it."
   ]
  }
 ],
 "metadata": {
  "kernelspec": {
   "display_name": "Python 3 (ipykernel)",
   "language": "python",
   "name": "python3"
  },
  "language_info": {
   "codemirror_mode": {
    "name": "ipython",
    "version": 3
   },
   "file_extension": ".py",
   "mimetype": "text/x-python",
   "name": "python",
   "nbconvert_exporter": "python",
   "pygments_lexer": "ipython3",
   "version": "3.10.9"
  }
 },
 "nbformat": 4,
 "nbformat_minor": 5
}
